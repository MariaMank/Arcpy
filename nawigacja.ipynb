{
 "cells": [
  {
   "cell_type": "code",
   "execution_count": 1,
   "metadata": {},
   "outputs": [],
   "source": [
    "import arcpy\n",
    "\n",
    "arcpy.env.overwriteOutput = True\n",
    "#miejsce gdzie beda sie zapisywaly warstwy posrednie #smieci z ktorych beda kopiowane punkty do interesujących nas warstw\n",
    "gdb_route =  r\"D:\\MDokumenty\\studia\\wektoryzacja\\przasnysz\\ud_projekt_Przasnysz\\ud_projekt_Przasnysz.gdb\"\n",
    "arcpy.env.workspace = gdb_route\n",
    "##tutaj true jesli chce sie zeby sie dodawaly warstwy posrednie do projektu\n",
    "arcpy.env.addOutputsToMap = False"
   ]
  },
  {
   "cell_type": "markdown",
   "metadata": {},
   "source": [
    "Zaleca się przed uruchomieniem algorytmu:\n",
    "--ZROBIĆ BUCKUP\n",
    "-- WYCZYŚCIĆ JAKIEKOLWIEK SELEKCJE\n",
    "-- WSZYSTKIE PIETRA WLACZYC NA RAZ (inaczej wiekszosc funkcji zadziala tylko dla biezacego widoku)"
   ]
  },
  {
   "cell_type": "code",
   "execution_count": 2,
   "metadata": {},
   "outputs": [],
   "source": [
    "#WCZYTANIE TABELI FLOOR\n",
    "floor_table = arcpy.da.TableToNumPyArray(\"FLOOR\", [\"ID\", \"BASE_ELEVATION\"])\n",
    "floor_IDs = [i[0] for i in floor_table]\n",
    "floor_dic = {}\n",
    "for id, elev in floor_table:\n",
    "    floor_dic[id] = elev\n"
   ]
  },
  {
   "cell_type": "code",
   "execution_count": 3,
   "metadata": {},
   "outputs": [],
   "source": [
    "#funkcja dla każdej wprowadzonej warstwy, iteruje się po wszystkich piętrach, \n",
    "#podczas tej iteracji zamienia obiekty z warstwy na punkty zapisujac w oddzielnej warstwie śmieciowej, ale z ID_FLOOR :)\n",
    "#dlatego koniecznie trzeba zmienic sciezke dostepu przy zapisie Feature to point w funkcji na ud_GmachCzegos.gdb z) bo powstaje tyle roboczych warstw co pieter\n",
    "#nastepnie przekopiowuje te elementy do klas state i route node, \n",
    "\n",
    "def create_staty_nody(warstwa): #przyjmuje stringa z nazwa warstwy np, \"ROOM\", \"\"\n",
    "    for floor in floor_IDs:\n",
    "        print(\"robi sie:\", warstwa, \"pietro\", floor)\n",
    "        where = warstwa + \".FLOOR_ID =\" + str(floor)   \n",
    "        file_name = warstwa +\"_point\" + str(floor)\n",
    "        roomy_floor = arcpy.management.SelectLayerByAttribute(r\"topografia\\\\\" + warstwa, \"NEW_SELECTION\", where) \n",
    "        room_point = arcpy.management.FeatureToPoint(r\"topografia\\\\\" + warstwa, gdb_route+ \"\\\\\" + file_name , \"INSIDE\")\n",
    "        arcpy.management.CalculateField(file_name, \"FLOOR_ID\", str(floor), \"PYTHON3\", '', \"TEXT\")\n",
    "        edit = arcpy.da.Editor(arcpy.env.workspace)\n",
    "        edit.startEditing(True)\n",
    "        edit.startOperation()\n",
    "        arcpy.Append_management(file_name, r\"nawigacja\\State\", \"NO_TEST\") #wklejanie\n",
    "        arcpy.Append_management(file_name, r\"nawigacja\\RouteNode\", \"NO_TEST\")\n",
    "        edit.stopOperation()\n",
    "        edit.stopEditing(True)\n",
    "        arcpy.management.SelectLayerByAttribute(r\"topografia\\\\\" + warstwa, \"REMOVE_FROM_SELECTION\", where)\n",
    "#warto zauwazyc za zawsze state zrobiony dla danej warstwy z nizszego pietra bedzie mial mniejsze objectid niz ten z wyzszego"
   ]
  },
  {
   "cell_type": "code",
   "execution_count": 4,
   "metadata": {},
   "outputs": [],
   "source": [
    "#funkcja do uruchomienia po funkcji saty_nody w celu ustawienie Z dla RouteNodów w oknach\n",
    "#iteruje się po RouteNodach i ustawia ich Z na BaseElevation danego piętra + 1 m\n",
    "def z_in_nodes():\n",
    "    edit = arcpy.da.Editor(arcpy.env.workspace)\n",
    "    edit.startEditing(True)\n",
    "    edit.startOperation()\n",
    "    for floor in floor_table:\n",
    "        ID = floor[0]\n",
    "        elev = floor[1]\n",
    "        print(ID, elev)\n",
    "        where =  \"RouteNode.FLOOR_ID =\" + str(ID)   \n",
    "        nody_floor = arcpy.management.SelectLayerByAttribute(r\"nawigacja\\RouteNode\", \"NEW_SELECTION\", where) \n",
    "        with arcpy.da.UpdateCursor(r\"nawigacja\\RouteNode\",  ['OBJECTID', 'FLOOR_ID', 'SHAPE@Z']) as cursor:\n",
    "            for row in cursor:\n",
    "                row[2] = elev+1\n",
    "                cursor.updateRow(row)\n",
    "        arcpy.management.SelectLayerByAttribute(r\"nawigacja\\RouteNode\", \"REMOVE_FROM_SELECTION\", where)\n",
    "    edit.stopOperation()\n",
    "    edit.stopEditing(True)"
   ]
  },
  {
   "cell_type": "code",
   "execution_count": 6,
   "metadata": {},
   "outputs": [
    {
     "name": "stdout",
     "output_type": "stream",
     "text": [
      "robi sie: BUILDING_INSTALLATION pietro 1\n",
      "robi sie: BUILDING_INSTALLATION pietro 2\n",
      "robi sie: BUILDING_INSTALLATION pietro 3\n",
      "robi sie: BUILDING_INSTALLATION pietro 4\n",
      "1 -2.56\n",
      "2 0.0\n",
      "3 3.25\n",
      "4 6.51\n"
     ]
    }
   ],
   "source": [
    "#create_staty_nody(\"ROOM\")\n",
    "#create_staty_nody(\"DOOR\")\n",
    "#create_staty_nody(\"WINDOW\")\n",
    "create_staty_nody(\"BUILDING_INSTALLATION\")\n",
    "\n",
    "#Przypisuje STATE_ID w klasie RouteNode, jako OBJECTID - bo jak kopiujemy to równocześnie do obu tabel \n",
    "#i wykonujemy operacje na  pustych tabelach State i RouteNode to wartości OBJECTID te są identyczne dla odpowiadajacych statów i nodow w obu klasach\n",
    "#arcpy.management.CalculateField(r\"nawigacja\\RouteNode\", \"STATE_ID\", \"!OBJECTID!\", \"PYTHON3\", '', \"TEXT\")\n",
    "\n",
    "z_in_nodes()"
   ]
  },
  {
   "cell_type": "code",
   "execution_count": 3,
   "metadata": {},
   "outputs": [],
   "source": [
    "#funkcja staty_nody_from_to iteruje sie po obiektach liniowych znajduje intersekcje z obiektami punktowymi drugiej warstwy \n",
    "#i wpisuje object id obiektu punktowego do do odpowiedniego miejsca w tabeli obiektu liniowego\n",
    "\n",
    "def moj_cursor(points, lines, points_fields, row):\n",
    "    first_point = row[4].firstPoint\n",
    "    last_point = row[4].lastPoint\n",
    "    #print(cursor)\n",
    "    where = \"OBJECTID = \" + str(row[0])\n",
    "    arcpy.management.SelectLayerByAttribute(lines, \"NEW_SELECTION\", where) \n",
    "    arcpy.management.SelectLayerByLocation(points, \"INTERSECT\", lines)\n",
    "    with arcpy.da.SearchCursor(points, points_fields) as point_cursor:\n",
    "        for point in point_cursor:\n",
    "            if points == r\"nawigacja\\State\":  \n",
    "                if point[1] == row[1] and point[2] == first_point:\n",
    "                    row[2] = point[0]\n",
    "                elif point[1] == row[1] and point[2] == last_point:\n",
    "                    row[3] = point[0]\n",
    "            elif points == r\"nawigacja\\RouteNode\":\n",
    "                if point[2] == first_point:\n",
    "                    row[2] = point[0]\n",
    "                elif point[2] == last_point:\n",
    "                    row[3] = point[0]\n",
    "        if row[2] == 0 or row[3] == 0:\n",
    "            with arcpy.da.SearchCursor(points, points_fields) as point_cursor:\n",
    "                for point in point_cursor:\n",
    "                    if point[1] == (row[1] + 1) and point[2] == first_point:\n",
    "                        row[2] = point[0]\n",
    "                    elif point[1] == (row[1] + 1) and point[2] == last_point:\n",
    "                        row[3] = point[0]\n",
    "        if row[2] == 0 or row[3] == 0:\n",
    "            print(\"ŹLE DOSNAPOWANA LINIA!!! ---> OBJECTID = \", row[0], \"FLOOR_ID =\", row[1])\n",
    "            blad = True\n",
    "            \n",
    "def staty_nody_from_to(lines, points, fields_lines, points_fields, overWrite = True):   \n",
    "    arcpy.management.RemoveJoin(lines)\n",
    "    arcpy.management.RemoveJoin(points)\n",
    "    arcpy.management.SelectLayerByAttribute(lines, \"CLEAR_SELECTION\") \n",
    "    arcpy.management.SelectLayerByAttribute(points, \"CLEAR_SELECTION\")\n",
    "    edit = arcpy.da.Editor(arcpy.env.workspace)\n",
    "    edit.startEditing(True)\n",
    "    edit.startOperation()\n",
    "    blad = False\n",
    "    if overWrite:        \n",
    "        with arcpy.da.UpdateCursor(lines,  fields_lines) as cursor:\n",
    "            for row in cursor:\n",
    "                moj_cursor(points, lines, points_fields, row)\n",
    "                cursor.updateRow(row)\n",
    "    else:\n",
    "        where = str(fields_lines[2]) +\"= 0 Or \" + str(fields_lines[3]) +\"= 0\"\n",
    "        with arcpy.da.UpdateCursor(lines,  fields_lines, where) as cursor:\n",
    "            for row in cursor:\n",
    "                moj_cursor(points, lines, points_fields, row)\n",
    "                cursor.updateRow(row)            \n",
    "    arcpy.management.SelectLayerByAttribute(lines, \"CLEAR_SELECTION\") \n",
    "    arcpy.management.SelectLayerByAttribute(points, \"CLEAR_SELECTION\")\n",
    "    edit.stopOperation()      \n",
    "    edit.stopEditing(True)\n",
    "    arcpy.management.AddJoin(lines, \"FLOOR_ID\", \"FLOOR\", \"ID\")\n",
    "    arcpy.management.AddJoin(points, \"FLOOR_ID\", \"FLOOR\", \"ID\")\n",
    "    if blad:\n",
    "        print(\"istnieje też prawdopodobienstwo, ze Maria o czyms nie pomyslala, wiec spojrz gdzie to i przekaz informacje autorowi \")\n",
    "#uwaga funkcja moze troche nie dzialac na schodach w momencie gdy staty, albo routeNody są idealnie nad sobą na roznych pietrach"
   ]
  },
  {
   "cell_type": "code",
   "execution_count": 4,
   "metadata": {},
   "outputs": [],
   "source": [
    "#wywolanie funkcji znajdujaca state_from i state_to dla transition\n",
    "transitions  = r\"nawigacja\\Transition\"\n",
    "states = r\"nawigacja\\State\"\n",
    "transitions_fields = ['OBJECTID', 'FLOOR_ID', 'STATE_FROM_ID', 'STATE_TO_ID', 'SHAPE@']\n",
    "state_fields = ['OBJECTID', 'FLOOR_ID', 'SHAPE@']\n",
    "staty_nody_from_to(transitions, states, transitions_fields, state_fields, False) \n",
    "#ostatni parametr określa czy funkcja nadpisuje wartości, jeśli false, to tylko tam gdzie nie ma wartości wpisanych w state from i state to je wpisze\n",
    "#analogicznie we wszystkich pozostalych"
   ]
  },
  {
   "cell_type": "code",
   "execution_count": 7,
   "metadata": {},
   "outputs": [],
   "source": [
    "#wywolanie funkcji znajdujaca routenode_from i routenode_to dla routesegment\n",
    "route_nody =  r\"nawigacja\\RouteNode\"\n",
    "route_segmenty = r\"nawigacja\\RouteSegment\"\n",
    "routeSegments_fields = ['OBJECTID', 'FLOOR_ID', 'ROUTENODE_FROM_ID', 'ROUTENODE_TO_ID', 'SHAPE@']\n",
    "routeNodes_fields = ['OBJECTID', 'FLOOR_ID', 'SHAPE@']\n",
    "staty_nody_from_to(route_segmenty, route_nody, routeSegments_fields, routeNodes_fields, False)"
   ]
  },
  {
   "cell_type": "code",
   "execution_count": 23,
   "metadata": {},
   "outputs": [],
   "source": [
    "#funkcja staty_ids znajduje staty które przecinają się zdaną warstwą i są na tym samym piętrze i wpisuje objectid state do jego \"STATE_ID\"\n",
    "states = r\"nawigacja\\State\"\n",
    "def moj_cursor_state_id(warstwa, row):\n",
    "    #print(cursor)\n",
    "    where = \"OBJECTID = \" + str(row[0])\n",
    "    arcpy.management.SelectLayerByAttribute(warstwa, \"NEW_SELECTION\", where) \n",
    "    arcpy.management.SelectLayerByLocation(states, \"INTERSECT\", warstwa)\n",
    "    with arcpy.da.SearchCursor(states,\"OBJECTID\",\"State.FLOOR_ID=\" +str(row[1]) ) as point_cursor:\n",
    "        for point in point_cursor: \n",
    "            row[2] = point[0]\n",
    "    if row[2] == 0:\n",
    "        print(\"nie znalazlem state_id dla roomu o objectid = \", row[0])\n",
    "\n",
    "            \n",
    "def staty_ids(warstwa,  overWrite = True): \n",
    "    warstwa_1 = r\"topografia\\\\\" + warstwa\n",
    "    arcpy.management.RemoveJoin(warstwa_1)\n",
    "    arcpy.management.SelectLayerByAttribute(warstwa_1, \"CLEAR_SELECTION\") #\n",
    "    arcpy.management.SelectLayerByAttribute(states, \"CLEAR_SELECTION\")#\n",
    "    edit = arcpy.da.Editor(arcpy.env.workspace)\n",
    "    edit.startEditing(True)\n",
    "    edit.startOperation()\n",
    "    if overWrite:        \n",
    "        with arcpy.da.UpdateCursor(warstwa_1,  [\"OBJECTID\", \"FLOOR_ID\", \"STATE_ID\"]) as cursor:\n",
    "            for row in cursor:\n",
    "                moj_cursor_state_id(warstwa_1, row)\n",
    "                cursor.updateRow(row)\n",
    "    else:\n",
    "        where = \"STATE_ID IS NULL\"\n",
    "        with arcpy.da.UpdateCursor(warstwa_1,  [\"OBJECTID\", \"FLOOR_ID\", \"STATE_ID\"], where) as cursor:\n",
    "            for row in cursor:\n",
    "                moj_cursor_state_id(warstwa_1, row)\n",
    "                cursor.updateRow(row)            \n",
    "    edit.stopOperation()      \n",
    "    edit.stopEditing(True)\n",
    "    arcpy.management.AddJoin(warstwa_1, \"FLOOR_ID\", \"FLOOR\", \"ID\")\n",
    "    arcpy.management.SelectLayerByAttribute(warstwa_1, \"CLEAR_SELECTION\") #\n",
    "    arcpy.management.SelectLayerByAttribute(states, \"CLEAR_SELECTION\") #\n",
    "    print(\"Done State_ID w\", warstwa)"
   ]
  },
  {
   "cell_type": "code",
   "execution_count": 24,
   "metadata": {},
   "outputs": [
    {
     "name": "stdout",
     "output_type": "stream",
     "text": [
      "Done State_ID w ROOM\n"
     ]
    },
    {
     "data": {
      "text/plain": [
       "'\\nwarstwa = \"ROOM\"\\nfor floor in floor_IDs:\\n    where = warstwa + \".FLOOR_ID =\" + str(floor) \\n    warstwa_1 = r\"topografia\\\\\" + warstwa\\n    arcpy.management.SelectLayerByAttribute(warstwa_1, \"NEW_SELECTION\", where)\\n    arcpy.management.SelectLayerByAttribute(states, \"NEW_SELECTION\", where)\\n    staty_ids(\"ROOM\", False)\\n    arcpy.management.SelectLayerByAttribute(warstwa_1, \"REMOVE_FROM_SELECTION\", where)\\n    arcpy.management.SelectLayerByAttribute(states, \"REMOVE_FROM_SELECTION\", where)\\n'"
      ]
     },
     "execution_count": 24,
     "metadata": {},
     "output_type": "execute_result"
    }
   ],
   "source": [
    "#przypisanie wartosci state id dla roomow\n",
    "staty_ids(\"ROOM\", False)\n",
    "#powinno działac tak jak wyżej, bez iterowania sie po tej tabeli ale cos nie gra, wiec robie selekcje po pietrach i wtedy wywoluje funkcje na masce juz\n",
    "#jak chcecie tak sprobowac to w funckji wyzej trzeba zakomentowac te linijki ktore maja na koncu hasza\n",
    "\"\"\"\n",
    "warstwa = \"ROOM\"\n",
    "for floor in floor_IDs:\n",
    "    where = warstwa + \".FLOOR_ID =\" + str(floor) \n",
    "    warstwa_1 = r\"topografia\\\\\" + warstwa\n",
    "    arcpy.management.SelectLayerByAttribute(warstwa_1, \"NEW_SELECTION\", where)\n",
    "    arcpy.management.SelectLayerByAttribute(states, \"NEW_SELECTION\", where)\n",
    "    staty_ids(\"ROOM\", False)\n",
    "    arcpy.management.SelectLayerByAttribute(warstwa_1, \"REMOVE_FROM_SELECTION\", where)\n",
    "    arcpy.management.SelectLayerByAttribute(states, \"REMOVE_FROM_SELECTION\", where)\n",
    "\"\"\"\n"
   ]
  },
  {
   "cell_type": "code",
   "execution_count": 25,
   "metadata": {},
   "outputs": [
    {
     "name": "stdout",
     "output_type": "stream",
     "text": [
      "Done State_ID w DOOR\n",
      "Done State_ID w WINDOW\n"
     ]
    }
   ],
   "source": [
    "#wpisanie state id do drzwi - to samo mozna dla okien jak ktos ma to trzeba odkomentowac;P\n",
    "staty_ids(\"DOOR\", False) #tutaj zadzialalo przy wylaczonej filtracji por que, no se\n",
    "staty_ids(\"WINDOW\", False)"
   ]
  },
  {
   "cell_type": "code",
   "execution_count": 8,
   "metadata": {},
   "outputs": [],
   "source": [
    "#funkcja make_staty)_ids_in_nodes znajduje intersekcje routeNodow z roomami i przepisuje STATE_ID z roomu do routNoda\n",
    "\n",
    "def moj_cursor_state_id_2(warstwa, rooms, row):\n",
    "    #print(cursor)\n",
    "    rooms_top =  r\"topografia\\\\\" + rooms\n",
    "    where = \"OBJECTID = \" + str(row[0])\n",
    "    arcpy.management.SelectLayerByAttribute(warstwa, \"NEW_SELECTION\", where) \n",
    "    arcpy.management.SelectLayerByLocation(rooms_top, \"INTERSECT\", warstwa)\n",
    "    with arcpy.da.SearchCursor(rooms_top,f\"{rooms}.STATE_ID\",f\"{rooms}.FLOOR_ID=\" +str(row[1]) ) as room_cursor:\n",
    "        for room in room_cursor: \n",
    "            row[2] = room[0]\n",
    "\n",
    "            \n",
    "def make_staty_ids_in_nodes(rooms, overWrite = True):\n",
    "    rooms_top = r\"topografia\\\\\" + rooms\n",
    "    warstwa = \"RouteNode\"\n",
    "    warstwa_1 = r\"nawigacja\\\\\" + warstwa\n",
    "    \n",
    "    arcpy.management.RemoveJoin(warstwa_1)\n",
    "    arcpy.management.SelectLayerByAttribute(warstwa_1, \"CLEAR_SELECTION\") \n",
    "    arcpy.management.SelectLayerByAttribute(rooms_top, \"CLEAR_SELECTION\")\n",
    "    edit = arcpy.da.Editor(arcpy.env.workspace)\n",
    "    edit.startEditing(True)\n",
    "    edit.startOperation()\n",
    "    if overWrite:        \n",
    "        with arcpy.da.UpdateCursor(warstwa_1,  [\"OBJECTID\", \"FLOOR_ID\", \"STATE_ID\"]) as cursor:\n",
    "            for row in cursor:\n",
    "                moj_cursor_state_id_2(warstwa_1, rooms, row)\n",
    "                cursor.updateRow(row)\n",
    "    else:\n",
    "        where = \"STATE_ID = 0 \"\n",
    "        with arcpy.da.UpdateCursor(warstwa_1,  [\"OBJECTID\", \"FLOOR_ID\", \"STATE_ID\"], where) as cursor:\n",
    "            for row in cursor:\n",
    "                moj_cursor_state_id_2(warstwa_1,rooms, row)\n",
    "                cursor.updateRow(row)            \n",
    "    arcpy.management.SelectLayerByAttribute(warstwa_1, \"CLEAR_SELECTION\") \n",
    "    arcpy.management.SelectLayerByAttribute(rooms_top, \"CLEAR_SELECTION\")\n",
    "    edit.stopOperation()      \n",
    "    edit.stopEditing(True)\n",
    "    arcpy.management.AddJoin(warstwa_1, \"FLOOR_ID\", \"FLOOR\", \"ID\")\n",
    "    print(f\"Done State_ID w {warstwa} dla {rooms}\")"
   ]
  },
  {
   "cell_type": "code",
   "execution_count": 11,
   "metadata": {},
   "outputs": [
    {
     "name": "stdout",
     "output_type": "stream",
     "text": [
      "Done State_ID w RouteNode dla ROOM\n"
     ]
    }
   ],
   "source": [
    "make_staty_ids_in_nodes(r\"ROOM\", False)\n",
    "#make_staty_ids_in_nodes(r\"WINDOW\",True)\n",
    "#make_staty_ids_in_nodes(r\"DOOR\",True)"
   ]
  }
 ],
 "metadata": {
  "kernelspec": {
   "display_name": "ArcGISPro",
   "language": "Python",
   "name": "python3"
  },
  "language_info": {
   "file_extension": ".py",
   "name": "python",
   "version": "3"
  }
 },
 "nbformat": 4,
 "nbformat_minor": 2
}
