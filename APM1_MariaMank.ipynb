{
 "cells": [
  {
   "cell_type": "code",
   "execution_count": 1,
   "metadata": {},
   "outputs": [],
   "source": [
    "import sys\n",
    "import arcpy\n",
    "import os"
   ]
  },
  {
   "cell_type": "code",
   "execution_count": 2,
   "metadata": {},
   "outputs": [],
   "source": [
    "# sprawdzanie rozszerzeń\n",
    "arcpy.CheckOutExtension(\"Spatial\")\n",
    "arcpy.CheckOutExtension(\"3D\")\n",
    "# ustawienia środowiska pracy\n",
    "arcpy.env.workspace = r'D:\\OneDrive - Politechnika Warszawska\\Anazlizy\\Swieradow\\swieradow\\swieradow.gdb'\n",
    "arcpy.env.outputCoordinateSystem = arcpy.SpatialReference(\"ETRS 1989 Poland CS92\")\n",
    "arcpy.env.addOutputsToMap = False\n",
    "arcpy.env.overwriteOutput=True\n",
    "arcpy.env.cellSize= 1\n",
    "aprx = arcpy.mp.ArcGISProject(\"CURRENT\")\n",
    "map = aprx.listMaps()[0]"
   ]
  },
  {
   "cell_type": "code",
   "execution_count": 3,
   "metadata": {},
   "outputs": [],
   "source": [
    "#ustawianie sciezek i parametrow charakterystycznych dla danego obszaru\n",
    "wynikowe_path = \"D:\\\\OneDrive - Politechnika Warszawska\\\\Anazlizy\\\\Swieradow\\\\swieradow\\\\wynikowe\\\\\"\n",
    "gdb_path = r'D:\\\\OneDrive - Politechnika Warszawska\\\\Anazlizy\\\\Swieradow\\\\swieradow\\\\swieradow.gdb'\n",
    "przedrostek_bdot = \"PL.PZGiK.337.0210__OT_\"\n",
    "BDOT_path = 'D:\\OneDrive - Politechnika Warszawska\\Anazlizy\\Swieradow\\PowiatLubanskiBDOT'\n",
    "#przejsciowe_path = r\"D:\\OneDrive - Politechnika Warszawska\\Anazlizy\\Swieradow\\swieradow\\przejsciowe\\\\\"\n",
    "nazwa_gminy = \"'Świeradów-Zdrój'\"\n",
    "\n",
    "#przypisanie do zmiennych sciezek do danych do ktorych mamy gotowe warstwy\n",
    "hotele = r\"D:\\OneDrive - Politechnika Warszawska\\Anazlizy\\Swieradow\\swieradow\\wynikowe\\hotele\"\n",
    "gleby = r\"D:\\OneDrive - Politechnika Warszawska\\Anazlizy\\Swieradow\\swieradow\\Gleby\\gleby_swieradow_zdroj\\gleby_gm_swieradow.shp\"\n",
    "gazociag = r\"D:\\OneDrive - Politechnika Warszawska\\Anazlizy\\Swieradow\\swieradow\\Dane_gazociag\\gazociag.shp\"\n",
    "dzialki = r\"D:\\OneDrive - Politechnika Warszawska\\Anazlizy\\Swieradow\\swieradow\\dzialki\\dzialki.shp\"\n",
    "NMT = \"swieradowPolaczony.tif\""
   ]
  },
  {
   "cell_type": "markdown",
   "metadata": {},
   "source": [
    "Wgranie danych"
   ]
  },
  {
   "cell_type": "code",
   "execution_count": 12,
   "metadata": {},
   "outputs": [
    {
     "name": "stdout",
     "output_type": "stream",
     "text": [
      "PL.PZGiK.337.0210__OT_PTGN_A.shp\n",
      "PL.PZGiK.337.0210__OT_PTKM_A.shp\n",
      "PL.PZGiK.337.0210__OT_PTLZ_A.shp\n",
      "PL.PZGiK.337.0210__OT_PTNZ_A.shp\n",
      "PL.PZGiK.337.0210__OT_PTPL_A.shp\n",
      "PL.PZGiK.337.0210__OT_PTRK_A.shp\n",
      "PL.PZGiK.337.0210__OT_PTSO_A.shp\n",
      "PL.PZGiK.337.0210__OT_PTTR_A.shp\n",
      "PL.PZGiK.337.0210__OT_PTUT_A.shp\n",
      "PL.PZGiK.337.0210__OT_PTWP_A.shp\n",
      "PL.PZGiK.337.0210__OT_PTWZ_A.shp\n",
      "PL.PZGiK.337.0210__OT_PTZB_A.shp\n",
      "PL.PZGiK.337.0210__OT_ADMS_A.shp\n",
      "PL.PZGiK.337.0210__OT_BUBD_A.shp\n",
      "PL.PZGiK.337.0210__OT_PTLZ_A.shp\n",
      "PL.PZGiK.337.0210__OT_PTWP_A.shp\n",
      "PL.PZGiK.337.0210__OT_SKDR_L.shp\n",
      "PL.PZGiK.337.0210__OT_SWRS_L.shp\n"
     ]
    }
   ],
   "source": [
    "#tablica ktora bedzie przechowywala nazwy warstw pokrycia terenu ktore wystepuja w porjekcie\n",
    "PT = []\n",
    "\n",
    "#przeiterowanie sie po katalogu bdotu i dodanie wszystkich warstw pokrycia terenu\n",
    "for files in os.listdir(BDOT_path):\n",
    "    if files.endswith('.shp') and files.startswith(przedrostek_bdot + \"PT\"):\n",
    "        print(files)\n",
    "        PT.append(files[0:-4])\n",
    "        path = BDOT_path +\"\\\\\" + files\n",
    "        map.addDataFromPath(path)\n",
    "    else:\n",
    "        continue\n",
    "\n",
    "#polaczenie dodatnych warstw pokrycia, z wykorzystaniem tablicy do ktorej przy iteracji po katalogu dodawalismy nazwy plikow pokrycia\n",
    "#i zapisanie wyniku nastepnie dodanie do mapy\n",
    "pokrycie_terenu = arcpy.management.Merge(PT, wynikowe_path + 'pokrycieTerenu.shp')\n",
    "map.addDataFromPath(wynikowe_path + 'pokrycieTerenu.shp')\n",
    "\n",
    "#ustalenie jakie warstwy bdota chcemy dodac do projektu nastepnie przygotowanie ich, aby miec pelne nazwy plikow razem z przedrostkiem dla danego terenu\n",
    "bdot_layers = ['ADMS_A', 'SKDR_L', 'PTWP_A','SWRS_L', 'BUBD_A', 'PTLZ_A']\n",
    "bdot_layers_1 = [przedrostek_bdot + layer for layer in bdot_layers]\n",
    "#ponowne przeiterowanie sie po katalogu bdotu i dodanie wskazanych wczesniej (w tablicy bdot_layers) warstw\n",
    "for files in os.listdir(BDOT_path):\n",
    "    czy_interesuje = files.startswith(bdot_layers_1[0]) or files.startswith(bdot_layers_1[1]) or files.startswith(bdot_layers_1[2]) or files.startswith(bdot_layers_1[3]) or files.startswith(bdot_layers_1[4]) or files.startswith(bdot_layers_1[5])\n",
    "    if files.endswith('.shp') and czy_interesuje:\n",
    "        print(files)\n",
    "        path = BDOT_path +\"\\\\\" + files\n",
    "        map.addDataFromPath(path)\n",
    "    else:\n",
    "        continue"
   ]
  },
  {
   "cell_type": "code",
   "execution_count": 13,
   "metadata": {},
   "outputs": [
    {
     "data": {
      "text/plain": [
       "<arcpy._mp.Layer object at 0x000001C5296DC0A0>"
      ]
     },
     "execution_count": 13,
     "metadata": {},
     "output_type": "execute_result"
    }
   ],
   "source": [
    "#Przycinanie warstw\n",
    "#wyselekcjonowanie konkretnej badanej gminy z wszystkich jednostek administracyjnych, zrobienie bufora, zapisanie warstwy i dodanie do projektu\n",
    "jednostkiAdministracyjne = przedrostek_bdot + \"ADMS_A\"\n",
    "granicaGminy = arcpy.conversion.FeatureClassToFeatureClass(jednostkiAdministracyjne, gdb_path , 'granicaGminy', \"NAZWA = \" + nazwa_gminy)\n",
    "gmina_bufor = arcpy.analysis.Buffer(granicaGminy, wynikowe_path + \"gminabuffer.shp\", \"100 Meters\", \"FULL\", \"ROUND\", \"NONE\", None, \"PLANAR\")\n",
    "\n",
    "\n",
    "arcpy.env.extent = wynikowe_path + \"gminabuffer.shp\"\n",
    "map.addDataFromPath(wynikowe_path + \"gminabuffer.shp\")\n",
    "#przyciecie pokrycia terenu do obszaru gminy i dodanie do projektu\n",
    "arcpy.management.SelectLayerByLocation('pokrycieTerenu', \"INTERSECT\", granicaGminy) \n",
    "arcpy.management.CopyFeatures('pokrycieTerenu', wynikowe_path + \"pokrycie.shp\")\n",
    "map.addDataFromPath(wynikowe_path + \"pokrycie.shp\")"
   ]
  },
  {
   "cell_type": "code",
   "execution_count": 14,
   "metadata": {},
   "outputs": [],
   "source": [
    "#przyciecie, zapisanie i dodanie do projektu wszystkich warstw potrzebnych z bdota\n",
    "def przytnij(warstwa):\n",
    "    arcpy.management.SelectLayerByLocation(warstwa, \"INTERSECT\", gmina_bufor)\n",
    "    if warstwa.endswith('BUBD_A'): #dla warstwy z budynkami sposrod tych w gminie wybiera jedynie mieszkalne\n",
    "        arcpy.management.SelectLayerByAttribute(warstwa, \"SUBSET_SELECTION\", \"FUNSZCZ LIKE 'budynekW%' or FUNSZCZ LIKE 'budynekJ%' \")\n",
    "    arcpy.management.CopyFeatures(warstwa, wynikowe_path + warstwa[-6::] + \".shp\")\n",
    "    map.addDataFromPath(wynikowe_path + warstwa[-6::] + \".shp\")\n",
    "\n",
    "for warstwa in bdot_layers_1[1::]:\n",
    "    przytnij(warstwa)"
   ]
  },
  {
   "cell_type": "code",
   "execution_count": 15,
   "metadata": {},
   "outputs": [
    {
     "name": "stdout",
     "output_type": "stream",
     "text": [
      "\n",
      "\n",
      "\n",
      "\n",
      "\n",
      "\n",
      "\n",
      "\n",
      "\n",
      "\n",
      "\n",
      "\n",
      "\n",
      "\n",
      "\n",
      "\n",
      "\n",
      "\n"
     ]
    }
   ],
   "source": [
    "#usuniecie wczesniej dodanych warstw pokrycia terenu i xrodowych nieprzycietych warstw z bdota\n",
    "for layer in map.listLayers():\n",
    "    czy_interesuje = layer.name.startswith(bdot_layers_1[0]) or layer.name.startswith(bdot_layers_1[1]) or layer.name.startswith(bdot_layers_1[2]) or layer.name.startswith(bdot_layers_1[3]) or layer.name.startswith(bdot_layers_1[4]) or layer.name.startswith(bdot_layers_1[5])\n",
    "    czy_PT = layer.name.startswith(przedrostek_bdot + \"PT\")\n",
    "    if czy_interesuje or czy_PT:\n",
    "        map.removeLayer(layer)\n",
    "        print(layer)\n",
    "    else:\n",
    "        continue"
   ]
  },
  {
   "cell_type": "code",
   "execution_count": 16,
   "metadata": {},
   "outputs": [],
   "source": [
    "#przypisanie odpowiednio przygotowanych i dodanych do projektu warstw do zmiennych\n",
    "obszar_badania = \"gminabuffer\"\n",
    "drogi = \"SKDR_L\"\n",
    "woda_plynaca = \"SWRS_L\"\n",
    "woda_stojaca = \"PTWP_A\"\n",
    "budynki_mieszkalne = \"BUBD_A\"\n",
    "las = 'PTLZ_A'\n",
    "pokrycie = \"pokrycie\""
   ]
  },
  {
   "cell_type": "markdown",
   "metadata": {},
   "source": [
    "Kryterium 1 - odleglosc od konkurencji - >= 400 m"
   ]
  },
  {
   "cell_type": "code",
   "execution_count": 17,
   "metadata": {},
   "outputs": [
    {
     "name": "stdout",
     "output_type": "stream",
     "text": [
      "start\n",
      "dist\n",
      "extracted\n",
      "fuzzied\n"
     ]
    },
    {
     "data": {
      "text/plain": [
       "<arcpy._mp.Layer object at 0x000001C52999BD30>"
      ]
     },
     "execution_count": 17,
     "metadata": {},
     "output_type": "execute_result"
    }
   ],
   "source": [
    "#utworzenie mapy odległości, następnie przycięcie jej do obszaru gminy, utworzenie rastra przydatności na podstawie funkcji liniowej\n",
    "dist = arcpy.sa.EucDistance(hotele)\n",
    "extractedByMask = arcpy.sa.ExtractByMask(dist, granicaGminy, \"INSIDE\");\n",
    "Kryt1 = arcpy.sa.FuzzyMembership(extractedByMask, arcpy.sa.FuzzyLinear(400, 1000))\n",
    "Kryt1.save(wynikowe_path + \"kryt1.tif\")\n",
    "map.addDataFromPath(wynikowe_path + \"kryt1.tif\")"
   ]
  },
  {
   "cell_type": "markdown",
   "metadata": {},
   "source": [
    "Kryterium 2 - odległość od budynków mieszkalnych - 25-150 m "
   ]
  },
  {
   "cell_type": "code",
   "execution_count": 18,
   "metadata": {},
   "outputs": [
    {
     "data": {
      "text/plain": [
       "<arcpy._mp.Layer object at 0x000001C52AE192E0>"
      ]
     },
     "execution_count": 18,
     "metadata": {},
     "output_type": "execute_result"
    }
   ],
   "source": [
    "#wykonujemy analogiczne kroki jak dla pierwszego kryterium\n",
    "#jednak tworzymy dwa oddzielne rastry wynikowe dla dwóch funkcji liniowych - malejącej i rosnącej, nastepnie mnożymy je aby otrzymać ostateczny wynik\n",
    "dist = arcpy.sa.EucDistance(budynki_mieszkalne)\n",
    "extractedByMask = arcpy.sa.ExtractByMask(dist, granicaGminy, \"INSIDE\"); \n",
    "Kryt2_vol1 = arcpy.sa.FuzzyMembership(extractedByMask, arcpy.sa.FuzzyLinear(5, 25))\n",
    "Kryt2_vol2 = arcpy.sa.FuzzyMembership(extractedByMask, arcpy.sa.FuzzyLinear(400,150))\n",
    "Kryt2 = Kryt2_vol1*Kryt2_vol2\n",
    "Kryt2.save(wynikowe_path + \"kryt2.tif\")\n",
    "map.addDataFromPath(wynikowe_path + \"kryt2.tif\")"
   ]
  },
  {
   "cell_type": "markdown",
   "metadata": {},
   "source": [
    "Kryterium 3 - odległość od istniejących dróg - 15 - 100 m"
   ]
  },
  {
   "cell_type": "code",
   "execution_count": 19,
   "metadata": {},
   "outputs": [
    {
     "data": {
      "text/plain": [
       "<arcpy._mp.Layer object at 0x000001C529921070>"
      ]
     },
     "execution_count": 19,
     "metadata": {},
     "output_type": "execute_result"
    }
   ],
   "source": [
    "dist = arcpy.sa.EucDistance(drogi)\n",
    "extractedByMask = arcpy.sa.ExtractByMask(dist, granicaGminy, \"INSIDE\"); \n",
    "Kryt3_vol1 = arcpy.sa.FuzzyMembership(extractedByMask, arcpy.sa.FuzzyLinear(0, 15))\n",
    "Kryt3_vol2 = arcpy.sa.FuzzyMembership(extractedByMask, arcpy.sa.FuzzyLinear(350,100))\n",
    "Kryt3 = Kryt3_vol1*Kryt3_vol2\n",
    "Kryt3.save(wynikowe_path + \"kryt3.tif\")\n",
    "map.addDataFromPath(wynikowe_path + \"kryt3.tif\")"
   ]
  },
  {
   "cell_type": "markdown",
   "metadata": {},
   "source": [
    "Kryterium 4 - odległość od rzek i zbiorników wodnych >=20 m nieprzekraczalne do 20 m"
   ]
  },
  {
   "cell_type": "code",
   "execution_count": 20,
   "metadata": {},
   "outputs": [
    {
     "data": {
      "text/plain": [
       "<arcpy._mp.Layer object at 0x000001C529904E80>"
      ]
     },
     "execution_count": 20,
     "metadata": {},
     "output_type": "execute_result"
    }
   ],
   "source": [
    "#wyliczenie wartosci dla rzek i zbiornikow wodnych\n",
    "dist = arcpy.sa.EucDistance(woda_stojaca)\n",
    "dist2 = arcpy.sa.EucDistance(woda_plynaca)\n",
    "extractedByMask = arcpy.sa.ExtractByMask(dist, granicaGminy, \"INSIDE\"); \n",
    "extractedByMask2 = arcpy.sa.ExtractByMask(dist2, granicaGminy, \"INSIDE\"); \n",
    "Kryt4_1_vol1 = extractedByMask>=20\n",
    "Kryt4_1_vol2 = arcpy.sa.FuzzyMembership(extractedByMask, arcpy.sa.FuzzyLinear(350,100))\n",
    "Kryt4_2_vol1 = extractedByMask2>=20\n",
    "Kryt4_2_vol2 = arcpy.sa.FuzzyMembership(extractedByMask2, arcpy.sa.FuzzyLinear(350,100))\n",
    "Kryt4_1 = Kryt4_1_vol1*Kryt4_1_vol2\n",
    "Kryt4_2 = Kryt4_2_vol1*Kryt4_2_vol2\n",
    "#poniewaz uwazam bliskosc zbiornikow jako szczegolny walor jako wynik dla tego kryterium biore wieksza wartosc z dwoch\n",
    "#jesli jest blizej zbiornika wodnego to biore ta wartosc jako wynik, jesli blizej rzeki to wartosc wynikowa dla wody plynacej\n",
    "Kryt4 = arcpy.ia.CellStatistics([Kryt4_1, Kryt4_2], \"MAXIMUM\", \"DATA\")\n",
    "Kryt4.save(wynikowe_path + \"kryt4.tif\")\n",
    "map.addDataFromPath(wynikowe_path + \"kryt4.tif\")\n",
    "wody_ostr = Kryt4_1_vol1*Kryt4_2_vol1\n",
    "wody_ostr.save(wynikowe_path + \"wody_ostr.tif\")\n",
    "map.addDataFromPath(wynikowe_path + \"wody_ostr.tif\")"
   ]
  },
  {
   "cell_type": "markdown",
   "metadata": {},
   "source": [
    "Kryterium 5 - pokrycie terenu - nie w lesie"
   ]
  },
  {
   "cell_type": "code",
   "execution_count": 22,
   "metadata": {},
   "outputs": [
    {
     "data": {
      "text/plain": [
       "<arcpy._mp.Layer object at 0x000001C52AE28BE0>"
      ]
     },
     "execution_count": 22,
     "metadata": {},
     "output_type": "execute_result"
    }
   ],
   "source": [
    "# selekcja lasów i zagajników, nadanie im wartosci 0 w dodatkowycm polu, na podstawie ktorego pozniej tworzymy raster przydanosci\n",
    "#nastepnie robimy reklasyfikacje, tak aby wszystkie pozostale tereny mialy wartosc 1\n",
    "las_zagajnik = arcpy.management.SelectLayerByAttribute(las, \"NEW_SELECTION\", \"X_KOD <> 'PTLZ03'\", None) \n",
    "arcpy.management.CalculateField(las_zagajnik, \"Value\", \"0\", \"PYTHON3\", '', \"FLOAT\", \"NO_ENFORCE_DOMAINS\") \n",
    "kryt_5 = arcpy.conversion.FeatureToRaster(las_zagajnik, \"Value\", \"raster_lasy\", 1) \n",
    "kryt_5 = arcpy.sa.Reclassify(kryt_5, \"Value\", \"0 0;NODATA 1\", \"NODATA\")\n",
    "kryt_5 = arcpy.sa.ExtractByMask(kryt_5, granicaGminy, \"INSIDE\");\n",
    "kryt_5.save(wynikowe_path + \"kryt5.tif\")\n",
    "map.addDataFromPath(wynikowe_path + \"kryt5.tif\")"
   ]
  },
  {
   "cell_type": "markdown",
   "metadata": {},
   "source": [
    "Kryterium 6 - nachylenie stoku maksymalnie 20%"
   ]
  },
  {
   "cell_type": "code",
   "execution_count": 23,
   "metadata": {},
   "outputs": [
    {
     "data": {
      "text/plain": [
       "<arcpy._mp.Layer object at 0x000001C52AE28F70>"
      ]
     },
     "execution_count": 23,
     "metadata": {},
     "output_type": "execute_result"
    }
   ],
   "source": [
    "slope = arcpy.sa.Slope(NMT, \"PERCENT_RISE\")\n",
    "kryt_6 = arcpy.sa.FuzzyMembership(slope, arcpy.sa.FuzzyLinear(40, 5))\n",
    "kryt_6 = arcpy.sa.ExtractByMask(kryt_6, granicaGminy, \"INSIDE\"); \n",
    "kryt_6.save(wynikowe_path + \"kryt6.tif\")\n",
    "map.addDataFromPath(wynikowe_path + \"kryt6.tif\")"
   ]
  },
  {
   "cell_type": "markdown",
   "metadata": {},
   "source": [
    "Kryterium 7 - dostep swiatla slonecznego - stoki poludniowe - SW - SE"
   ]
  },
  {
   "cell_type": "code",
   "execution_count": 24,
   "metadata": {},
   "outputs": [
    {
     "data": {
      "text/plain": [
       "<arcpy._mp.Layer object at 0x000001C5297BFBE0>"
      ]
     },
     "execution_count": 24,
     "metadata": {},
     "output_type": "execute_result"
    }
   ],
   "source": [
    "aspect = arcpy.ddd.Aspect(NMT,'aspected')\n",
    "aspected = arcpy.sa.ExtractByMask(aspect, granicaGminy, \"INSIDE\"); \n",
    "kryt_7_1 = arcpy.sa.FuzzyMembership(aspected, arcpy.sa.FuzzyLinear(45, 135))\n",
    "kryt_7_2 = arcpy.sa.FuzzyMembership(aspected, arcpy.sa.FuzzyLinear(315, 225))\n",
    "kryt_7 = kryt_7_1 * kryt_7_2\n",
    "#przypisanie wartosci 1 dla terenow plaskich za pomoca funkcji Con\n",
    "kryt_7 = arcpy.ia.Con(aspected, 1, kryt_7, \"VALUE = -1\")\n",
    "kryt_7.save(wynikowe_path + \"kryt7.tif\")\n",
    "map.addDataFromPath(wynikowe_path + \"kryt7.tif\")"
   ]
  },
  {
   "cell_type": "markdown",
   "metadata": {},
   "source": [
    "Kryterium 8 - poza strefa ochronna gazociagu"
   ]
  },
  {
   "cell_type": "code",
   "execution_count": 25,
   "metadata": {},
   "outputs": [
    {
     "data": {
      "text/plain": [
       "<arcpy._mp.Layer object at 0x000001C52AE28D30>"
      ]
     },
     "execution_count": 25,
     "metadata": {},
     "output_type": "execute_result"
    }
   ],
   "source": [
    "dist = arcpy.sa.EucDistance(gazociag)\n",
    "extractedByMask = arcpy.sa.ExtractByMask(dist, granicaGminy, \"INSIDE\");\n",
    "Kryt8 = arcpy.sa.FuzzyMembership(dist, arcpy.sa.FuzzyLinear(25, 200))\n",
    "Kryt8.save(wynikowe_path + \"kryt8.tif\")\n",
    "gazo_ostr = extractedByMask > 25\n",
    "gazo_ostr.save(wynikowe_path + \"gazo_ostr.tif\")\n",
    "map.addDataFromPath(wynikowe_path + \"kryt8.tif\")\n",
    "map.addDataFromPath(wynikowe_path + \"gazo_ostr.tif\")"
   ]
  },
  {
   "cell_type": "markdown",
   "metadata": {},
   "source": [
    "Kryterium 9 - uzytkowanie terenu - RV, RVI, N"
   ]
  },
  {
   "cell_type": "code",
   "execution_count": 27,
   "metadata": {},
   "outputs": [
    {
     "data": {
      "text/plain": [
       "<arcpy._mp.Layer object at 0x000001C52950DA30>"
      ]
     },
     "execution_count": 27,
     "metadata": {},
     "output_type": "execute_result"
    }
   ],
   "source": [
    "#przypisanie wartosci O dla poszczegolnych typow gleb i utworzenie na tej podstawie rastra przydatnosci\n",
    "#analogicznie jak kryt 5\n",
    "calculated = arcpy.management.CalculateField(gleby, \"isGood\", \"fun(!TYP!)\", \"PYTHON3\", \"\"\"def fun(a):\n",
    "    if a in(['G', 'E', 'M', 'T', 'F', 'Fb', 'Fc', 'FG']):\n",
    "        return 0\n",
    "    else:\n",
    "        return 1\"\"\", \"TEXT\", \"NO_ENFORCE_DOMAINS\")\n",
    "kryt_9 = arcpy.conversion.FeatureToRaster(gleby, 'isGood', wynikowe_path + \"kryt_9.tif\")\n",
    "map.addDataFromPath(wynikowe_path + \"kryt_9.tif\")"
   ]
  },
  {
   "cell_type": "markdown",
   "metadata": {},
   "source": [
    "Polaczenie kryteriów"
   ]
  },
  {
   "cell_type": "code",
   "execution_count": 28,
   "metadata": {},
   "outputs": [
    {
     "data": {
      "text/plain": [
       "<arcpy._mp.Layer object at 0x000001C529806FD0>"
      ]
     },
     "execution_count": 28,
     "metadata": {},
     "output_type": "execute_result"
    }
   ],
   "source": [
    "#przemnożenie kryteriów ostrych\n",
    "ostre = arcpy.sa.FuzzyOverlay([kryt_5, kryt_9, gazo_ostr, wody_ostr], 'AND')\n",
    "ostre.save(wynikowe_path + \"ostre.tif\")\n",
    "\n",
    "#połaczenie kryteriów rozmytych z uwzględnieniem wag\n",
    "rozmyte_weighted = arcpy.sa.WeightedSum(arcpy.sa.WSTable([[Kryt1, \"VALUE\", 0.2], [Kryt2, \"VALUE\",0.05], [Kryt4, \"VALUE\",0.2],\n",
    "\t\t\t\t\t\t\t\t\t  [Kryt3, \"VALUE\", 0.15], [kryt_6, \"VALUE\",0.2], [kryt_7, \"VALUE\",0.1], [Kryt8, \"VALUE\",0.1]]))\n",
    "rozmyte_weighted.save(wynikowe_path + \"rozmyte_weighted.tif\")\n",
    "#połaczenie kryteriów rozmytych z przypisaniem im równych wag\n",
    "rozmyte_equal = arcpy.sa.WeightedSum(arcpy.sa.WSTable([[Kryt1, \"VALUE\", (1/7)], [Kryt2, \"VALUE\",(1/7)], [Kryt4, \"VALUE\",(1/7)],\n",
    "\t\t\t\t\t\t\t\t\t  [Kryt3, \"VALUE\", (1/7)], [kryt_6, \"VALUE\",(1/7)], [kryt_7, \"VALUE\",(1/7)], [Kryt8, \"VALUE\",(1/7)]]))\n",
    "rozmyte_equal.save(wynikowe_path + \"rozmyte_equal.tif\")\n",
    "\n",
    "#w celu uzyskania ostatecznego wyniku przemnożenie wyników kryteriów rozmytych przez iloczyn kryteriów ostrych\n",
    "wynik_equalWeights = rozmyte_equal*ostre\n",
    "wynik_equalWeights.save(wynikowe_path + \"wynik_equalWeights.tif\")\n",
    "map.addDataFromPath(wynikowe_path + \"wynik_equalWeights.tif\")\n",
    "wynik_weighted = rozmyte_weighted*ostre\n",
    "wynik_weighted.save(wynikowe_path + \"wynik_weighted.tif\")\n",
    "map.addDataFromPath(wynikowe_path + \"wynik_weighted.tif\")\n",
    "\n",
    "#sprawdzenie czy na rastrze wynikowym nie ma gdzies braku danych sprawdzic czy gdzies nie ma no data, tego nie chcemy, bo polaczony z jakakolwiek wartoscia daje brak danych\n",
    "#czyNoData = arcpy.sa.Reclassify(\"wynik_weighted.tif\", \"VALUE\", \"0 0,946831 1;NODATA 0\", \"DATA\");\n",
    "#czyNoData.save(r\"D:\\OneDrive - Politechnika Warszawska\\Anazlizy\\Swieradow\\swieradow\\swieradow.gdb\\czyNoData\")"
   ]
  },
  {
   "cell_type": "markdown",
   "metadata": {},
   "source": [
    "Przypisanie dzialek spelniajacych kryteria"
   ]
  },
  {
   "cell_type": "code",
   "execution_count": 46,
   "metadata": {},
   "outputs": [
    {
     "data": {
      "text/plain": [
       "<arcpy._mp.Layer object at 0x000001C52992BF40>"
      ]
     },
     "execution_count": 46,
     "metadata": {},
     "output_type": "execute_result"
    }
   ],
   "source": [
    "#przyciecie dzialek z EGIBu powiatowego do obszaru gminy\n",
    "dzialki_1 = arcpy.management.SelectLayerByLocation(dzialki, \"WITHIN\", granicaGminy)\n",
    "dzialki_2 = arcpy.conversion.FeatureClassToShapefile(dzialki, wynikowe_path)\n",
    "map.addDataFromPath(wynikowe_path + \"dzialki.shp\")\n",
    "\n",
    "#utworzenie ostatecznego rastra przydatnosci, prog przydatnosci terenu 0.85\n",
    "ostateczny_rowneWagi = wynik_equalWeights >0.85\n",
    "ostateczny_wagi = wynik_weighted > 0.85\n",
    "ostateczny_rowneWagi.save(wynikowe_path + \"ostateczny_rowneWagi.tif\")\n",
    "ostateczny_wagi.save(wynikowe_path + \"ostateczny_wagi.tif\")\n",
    "\n",
    "#zamiana rastrów przydatnosci na poligon i zaznaczenie jedynie tych które są przydatne jako działki pod hotel\n",
    "rowne_polygon = arcpy.conversion.RasterToPolygon(ostateczny_rowneWagi, \"rowne_polygon\" ,\"SIMPLIFY\", \"VALUE\")\n",
    "rowne_polygon = arcpy.management.SelectLayerByAttribute(rowne_polygon, \"NEW_SELECTION\", \"gridcode = 1\") \n",
    "wagi_polygon = arcpy.conversion.RasterToPolygon(ostateczny_wagi, \"wagi_polygon\" ,\"SIMPLIFY\", \"VALUE\")\n",
    "wagi_polygon = arcpy.management.SelectLayerByAttribute(wagi_polygon, \"NEW_SELECTION\", \"gridcode = 1\") \n",
    "\n",
    "#stworzenie tabeli, która okresla ile dana dzialka ma procent wspolnej powierzchni z naszym wynikowymi obszarami\n",
    "arcpy.analysis.TabulateIntersection(wynikowe_path + \"dzialki.shp\", \"ID_DZIALKI\", rowne_polygon, gdb_path +\"\\dzialki_TabulateIntersection\", None, None, None, \"UNKNOWN\")\n",
    "#polaczenie tabeli intersekcji z klasa dzialek, wybranie tych, ktorych powierzchnia w 70% sie pokrywa z terenem interesujacym\n",
    "arcpy.management.AddJoin(\"dzialki\", \"ID_DZIALKI\",gdb_path +\"\\dzialki_TabulateIntersection\", \"ID_DZIALKI\", \"KEEP_ALL\", \"NO_INDEX_JOIN_FIELDS\")\n",
    "dzialki_percentage = arcpy.management.SelectLayerByAttribute(\"dzialki\", \"NEW_SELECTION\", \"PERCENTAGE > 0.7\") \n",
    "dzialki_percentage = arcpy.management.CopyFeatures(\"dzialki\", \"dzialki_percentage\") \n",
    "#polaczenie sasiadujacych ze soba dzialek\n",
    "dissolved_equal = arcpy.management.Dissolve(dzialki_percentage, wynikowe_path + \"dzialki_per_dis.shp\",  None, None,\"SINGLE_PART\")\n",
    "map.addDataFromPath(wynikowe_path+ \"dzialki_per_dis.shp\")\n",
    "#usuniecie polaczenia, zeby mozna bylo zrobic kolejne dla drugiego podejscia\n",
    "arcpy.management.RemoveJoin(\"dzialki\")\n",
    "dissolved_equal = wynikowe_path + \"dzialki_per_dis.shp\"\n",
    "\n",
    "#analogiczna procedura dla podejscia z roznymi wagami\n",
    "arcpy.analysis.TabulateIntersection(wynikowe_path + \"\\dzialki.shp\", \"ID_DZIALKI\", wagi_polygon, gdb_path+ \"dzialki_TabulateIntersection_wag\", None, None, None, \"UNKNOWN\")\n",
    "arcpy.management.AddJoin(\"dzialki\", \"ID_DZIALKI\",gdb_path+ \"\\dzialki_TabulateIntersection_wag\", \"ID_DZIALKI\", \"KEEP_ALL\", \"NO_INDEX_JOIN_FIELDS\")\n",
    "dzialki_percentage_wag = arcpy.management.SelectLayerByAttribute(\"dzialki\", \"NEW_SELECTION\", \"PERCENTAGE > 0.7\") \n",
    "dzialki_percentage_wag = arcpy.management.CopyFeatures(\"dzialki\", \"dzialki_percentage_wag\") \n",
    "dissolved_diff = arcpy.management.Dissolve(dzialki_percentage_wag, wynikowe_path + \"dzialki_per_wag_dis.shp\", None, None, \"SINGLE_PART\")\n",
    "dissolved_diff = \"dzialki_per_wag_dis\"\n",
    "map.addDataFromPath(wynikowe_path+ \"dzialki_per_wag_dis.shp\")"
   ]
  },
  {
   "cell_type": "markdown",
   "metadata": {},
   "source": [
    "Kryterium 10 - obszar 1-6 ha"
   ]
  },
  {
   "cell_type": "code",
   "execution_count": 47,
   "metadata": {},
   "outputs": [
    {
     "data": {
      "text/plain": [
       "<arcpy._mp.Layer object at 0x000001C5266831C0>"
      ]
     },
     "execution_count": 47,
     "metadata": {},
     "output_type": "execute_result"
    }
   ],
   "source": [
    "#dodaje kolumy geometrii dla spelniajacych warunki dzialek\n",
    "#dodatkowo oprocz dodania do tabeli atrybutow powierzchi dodaje takze obwod, aby od razu przygotowac\n",
    "#sobie pole w ktorym obliczam wspolczynnik zwartosci oszaru ktory wykorzytsam przy kolejnym kryterium\n",
    "arcpy.management.CalculateGeometryAttributes(dissolved_equal, [[\"AREA\", \"AREA\"], [\"CIRCUIT\", \"PERIMETER_LENGTH\"]])\n",
    "arcpy.management.CalculateField(dissolved_equal, \"compacness\", \"math.sqrt(!AREA!/((!CIRCUIT!*!CIRCUIT!)/(4*math.pi)))\", \"PYTHON3\", '', \"FLOAT\", \"NO_ENFORCE_DOMAINS\")\n",
    "arcpy.management.SelectLayerByAttribute(dissolved_equal, \"NEW_SELECTION\", \"AREA > 10000\") \n",
    "dzialki_10_1 = arcpy.management.CopyFeatures(dissolved_equal, wynikowe_path + \"dzialki_10_rowne.shp\") \n",
    "dzialki_10_1 = \"dzialki_10_rowne\"\n",
    "map.addDataFromPath(wynikowe_path+ \"dzialki_10_rowne.shp\")\n",
    "#dla wyniku z wagami\n",
    "arcpy.management.CalculateGeometryAttributes(dissolved_diff, [[\"AREA\", \"AREA\"], [\"CIRCUIT\", \"PERIMETER_LENGTH\"]])\n",
    "arcpy.management.CalculateField(dissolved_diff, \"compacness\", \"math.sqrt(!AREA!/((!CIRCUIT!*!CIRCUIT!)/(4*math.pi)))\", \"PYTHON3\", '', \"FLOAT\", \"NO_ENFORCE_DOMAINS\")\n",
    "arcpy.management.SelectLayerByAttribute(dissolved_diff, \"NEW_SELECTION\", \"AREA > 10000\") \n",
    "dzialki_10_2 = arcpy.management.CopyFeatures(dissolved_diff, wynikowe_path + \"dzialki_10_wagi.shp\") \n",
    "dzialki_10_2 = \"dzialki_10_wagi\"\n",
    "map.addDataFromPath(wynikowe_path+ \"dzialki_10_wagi.shp\")"
   ]
  },
  {
   "cell_type": "markdown",
   "metadata": {},
   "source": [
    "Kryterium 11 - wyselekcjonowanie najbardziej zwartych obszarów"
   ]
  },
  {
   "cell_type": "code",
   "execution_count": 48,
   "metadata": {},
   "outputs": [
    {
     "data": {
      "text/plain": [
       "<arcpy._mp.Layer object at 0x000001C5266831C0>"
      ]
     },
     "execution_count": 48,
     "metadata": {},
     "output_type": "execute_result"
    }
   ],
   "source": [
    "#wybieram na podstawie wczesniej wyliczonego wspolczynnika dzialki wg mnie o odpowieniej zwartosci dla obu podejsc\n",
    "arcpy.management.SelectLayerByAttribute(dzialki_10_1, \"NEW_SELECTION\", \"compacness > 0.5\") \n",
    "dzialki_11_1 = arcpy.management.CopyFeatures(dzialki_10_1, wynikowe_path + \"wynik_zwartosc_rowne.shp\") \n",
    "map.addDataFromPath(wynikowe_path+ \"wynik_zwartosc_rowne.shp\")\n",
    "\n",
    "arcpy.management.SelectLayerByAttribute(dzialki_10_2, \"NEW_SELECTION\", \"compacness > 0.5\") \n",
    "dzialki_11_2 = arcpy.management.CopyFeatures(dzialki_10_2,  wynikowe_path +\"wynik_zwartosc_wagi.shp\")\n",
    "map.addDataFromPath(wynikowe_path+ \"wynik_zwartosc_wagi.shp\")"
   ]
  },
  {
   "cell_type": "markdown",
   "metadata": {},
   "source": [
    "Znalezienie najtańszego podłączenia do gazociągu"
   ]
  },
  {
   "cell_type": "code",
   "execution_count": 49,
   "metadata": {},
   "outputs": [],
   "source": [
    "#utworzenie mapy kosztow wzglednych na podstawie polaczonej warstwy pokrycia terenu\n",
    "#przypisanie kosztow do poszczegolnych rodzajow pokrycia\n",
    "arcpy.management.CalculateField(pokrycie, \"costs\", \"calc_pokrycie(!X_KOD!)\", \"PYTHON3\", \"\"\"def calc_pokrycie (x_kod):\n",
    "    if x_kod in ('PTWP01', 'PTWP03', 'PTUT01', 'PTSO01','PTSO02', 'PTWZ01', 'PTWZ02' ):\n",
    "        return 0\n",
    "    elif x_kod in ('PTZB05','PTLZ02', 'PTLZ03', 'PTPL01'):\n",
    "        return 50\n",
    "    elif x_kod in ('PTZB01','PTZB04','PTZB03','PTKM02', 'PTWP02'):\n",
    "        return 200\n",
    "    elif x_kod in ('PTZB02', 'PTLZ01', 'PTUT03', 'PTKM01'):\n",
    "        return 100\n",
    "    elif x_kod in ('PTNZ02', 'PTNZ01', 'PTKM03'):\n",
    "        return 150\n",
    "    elif x_kod in ('PTTR02', 'PTGN01', 'PTGN02', 'PTGN03', 'PTGN04'):\n",
    "        return 1\n",
    "    elif x_kod in ('PTUT04', 'PTUT05', 'PTTR01'):\n",
    "        return 20\n",
    "    elif x_kod == 'PTUT02':\n",
    "        return 90\n",
    "    elif x_kod == 'PTRK01' or x_kod == 'PTRK02':\n",
    "        return 1\"\"\", \"FLOAT\")\n",
    "mapa_kosztow_wzgl = arcpy.conversion.PolygonToRaster(pokrycie, 'costs', wynikowe_path +\"mapa_kosztow_wzgl.tif\")\n",
    "mapa_kosztow_wzgl = arcpy.sa.Reclassify(mapa_kosztow_wzgl, \"Value\", \"0 NODATA\", \"DATA\") \n",
    "mapa_kosztow_wzgl.save(wynikowe_path +\"mapa_kosztow_wzgl_reclas.tif\")"
   ]
  },
  {
   "cell_type": "code",
   "execution_count": 50,
   "metadata": {},
   "outputs": [],
   "source": [
    "#mapa kosztow skumulowanych\n",
    "cost_distance_raser_rowne = arcpy.sa.CostDistance(dzialki_10_1, mapa_kosztow_wzgl, None, wynikowe_path +\"kierunki_v1.tif\", None, None, None, None, ''); \n",
    "cost_distance_raser_rowne.save(wynikowe_path + \"koszty_skumulowane.tif\")\n",
    "cost_distance_raser_wagi = arcpy.sa.CostDistance(dzialki_10_2, mapa_kosztow_wzgl, None,wynikowe_path +\"kierunki_v2.tif\", None, None, None, None, ''); \n",
    "cost_distance_raser_wagi.save(wynikowe_path + \"koszty_skumulowane_wag.tif\")"
   ]
  },
  {
   "cell_type": "code",
   "execution_count": 51,
   "metadata": {},
   "outputs": [
    {
     "data": {
      "text/plain": [
       "<arcpy._mp.Layer object at 0x000001C5298B6D60>"
      ]
     },
     "execution_count": 51,
     "metadata": {},
     "output_type": "execute_result"
    }
   ],
   "source": [
    "#znalezienie podlaczenia do gazociagu o najmniejszym koszcie i zamienienie na linie\n",
    "cost_path_rowne = arcpy.sa.CostPath(gazociag, wynikowe_path + \"koszty_skumulowane.tif\",  wynikowe_path +\"kierunki_v1.tif\", \"BEST_SINGLE\", \"Id\", \"INPUT_RANGE\"); \n",
    "cost_path_wagi = arcpy.sa.CostPath(gazociag, wynikowe_path + \"koszty_skumulowane_wag.tif\", wynikowe_path +\"kierunki_v2.tif\", \"BEST_SINGLE\", \"Id\", \"INPUT_RANGE\"); \n",
    "\n",
    "arcpy.conversion.RasterToPolyline(cost_path_rowne, wynikowe_path + \"podlaczenie_rowne.shp\")\n",
    "arcpy.conversion.RasterToPolyline(cost_path_wagi, wynikowe_path + \"podlaczenie_wagi.shp\")\n",
    "map.addDataFromPath(wynikowe_path+   \"podlaczenie_rowne.shp\")\n",
    "map.addDataFromPath(wynikowe_path + \"podlaczenie_wagi.shp\")"
   ]
  },
  {
   "cell_type": "code",
   "execution_count": null,
   "metadata": {},
   "outputs": [],
   "source": []
  }
 ],
 "metadata": {
  "kernelspec": {
   "display_name": "ArcGISPro",
   "language": "Python",
   "name": "python3"
  },
  "language_info": {
   "file_extension": ".py",
   "name": "python",
   "version": "3"
  }
 },
 "nbformat": 4,
 "nbformat_minor": 2
}
